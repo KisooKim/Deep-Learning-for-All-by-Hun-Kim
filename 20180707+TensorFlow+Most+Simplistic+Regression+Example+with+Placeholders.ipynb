{
 "cells": [
  {
   "cell_type": "markdown",
   "metadata": {},
   "source": [
    "# TensorFlow Most Simplistic Regression with Placeholders\n",
    "\n",
    "#### 2018. 7. 7. Sat.\n",
    "#### Kisoo Kim\n",
    "\n",
    "This example follows the youtube lesson by Sung Kim at HKUST at https://www.youtube.com/watch?v=mQGwjrStQgg&t=0s&list=PLlMkM4tgfjnLSOjrEJN31gZATbcj_MpUm&index=6.\n",
    "\n",
    "In this example, we  use placeholders instead of feeding training X, Y values directly. As predicted, W and b each converges to 1 and 1.1.\n",
    "\n"
   ]
  },
  {
   "cell_type": "code",
   "execution_count": 53,
   "metadata": {},
   "outputs": [
    {
     "name": "stdout",
     "output_type": "stream",
     "text": [
      "0 th step - Cost :  6.398689 ,   W :  [0.3343997] ,    b :  [1.4061198]\n",
      "1000 th step - Cost :  4.3496046e-05 ,   W :  [0.9957328] ,    b :  [1.115406]\n",
      "2000 th step - Cost :  4.9866117e-08 ,   W :  [0.99985546] ,    b :  [1.1005216]\n",
      "3000 th step - Cost :  6.180016e-11 ,   W :  [0.9999948] ,    b :  [1.1000184]\n",
      "4000 th step - Cost :  6.180016e-11 ,   W :  [0.9999948] ,    b :  [1.1000184]\n",
      "5000 th step - Cost :  6.180016e-11 ,   W :  [0.9999948] ,    b :  [1.1000184]\n",
      "6000 th step - Cost :  6.180016e-11 ,   W :  [0.9999948] ,    b :  [1.1000184]\n",
      "7000 th step - Cost :  6.180016e-11 ,   W :  [0.9999948] ,    b :  [1.1000184]\n",
      "8000 th step - Cost :  6.180016e-11 ,   W :  [0.9999948] ,    b :  [1.1000184]\n",
      "9000 th step - Cost :  6.180016e-11 ,   W :  [0.9999948] ,    b :  [1.1000184]\n",
      "10000 th step - Cost :  6.180016e-11 ,   W :  [0.9999948] ,    b :  [1.1000184]\n",
      "11000 th step - Cost :  6.180016e-11 ,   W :  [0.9999948] ,    b :  [1.1000184]\n",
      "12000 th step - Cost :  6.180016e-11 ,   W :  [0.9999948] ,    b :  [1.1000184]\n",
      "13000 th step - Cost :  6.180016e-11 ,   W :  [0.9999948] ,    b :  [1.1000184]\n",
      "14000 th step - Cost :  6.180016e-11 ,   W :  [0.9999948] ,    b :  [1.1000184]\n",
      "15000 th step - Cost :  6.180016e-11 ,   W :  [0.9999948] ,    b :  [1.1000184]\n",
      "16000 th step - Cost :  6.180016e-11 ,   W :  [0.9999948] ,    b :  [1.1000184]\n",
      "17000 th step - Cost :  6.180016e-11 ,   W :  [0.9999948] ,    b :  [1.1000184]\n",
      "18000 th step - Cost :  6.180016e-11 ,   W :  [0.9999948] ,    b :  [1.1000184]\n",
      "19000 th step - Cost :  6.180016e-11 ,   W :  [0.9999948] ,    b :  [1.1000184]\n",
      "20000 th step - Cost :  6.180016e-11 ,   W :  [0.9999948] ,    b :  [1.1000184]\n"
     ]
    }
   ],
   "source": [
    "import tensorflow as tf\n",
    "W = tf.Variable(tf.random_normal([1]), name='weight')\n",
    "b = tf.Variable(tf.random_normal([1]), name='bias')\n",
    "X = tf.placeholder(tf.float32, shape=[None])\n",
    "Y = tf.placeholder(tf.float32, shape=[None])\n",
    "\n",
    "# Our Hypothesis XW + b\n",
    "hypothesis = X * W + b\n",
    "\n",
    "# Cost Function\n",
    "cost = tf.reduce_mean(tf.square(hypothesis - Y))\n",
    "\n",
    "# Minimize\n",
    "optimizer = tf.train.GradientDescentOptimizer(learning_rate=0.01)\n",
    "train = optimizer.minimize(cost)\n",
    "\n",
    "# Launch the garph in a session\n",
    "sess = tf.Session()\n",
    "\n",
    "# Initializes global variables in the graph.\n",
    "sess.run(tf.global_variables_initializer())\n",
    "\n",
    "# Fit the line\n",
    "\n",
    "\n",
    "for step in range(20001):\n",
    "    cost_val, W_val, b_val, _ = sess.run([cost, W, b, train],\n",
    "       feed_dict={X: [1, 2, 3, 4, 5], \n",
    "                  Y: [2.1, 3.1, 4.1, 5.1, 6.1]})\n",
    "\n",
    "    if step % 1000 == 0:\n",
    "        #print(step, cost_val, W_val, b_val)\n",
    "        print(step, \"th step - Cost : \", cost_val, \",   W : \", W_val, \",    b : \", b_val)\n"
   ]
  }
 ],
 "metadata": {
  "kernelspec": {
   "display_name": "Python 3",
   "language": "python",
   "name": "python3"
  },
  "language_info": {
   "codemirror_mode": {
    "name": "ipython",
    "version": 3
   },
   "file_extension": ".py",
   "mimetype": "text/x-python",
   "name": "python",
   "nbconvert_exporter": "python",
   "pygments_lexer": "ipython3",
   "version": "3.6.1"
  }
 },
 "nbformat": 4,
 "nbformat_minor": 2
}
