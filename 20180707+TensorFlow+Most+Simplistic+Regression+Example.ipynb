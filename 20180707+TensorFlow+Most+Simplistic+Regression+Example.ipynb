{
 "cells": [
  {
   "cell_type": "markdown",
   "metadata": {},
   "source": [
    "# TensorFlow Most Simplistic Regression\n",
    "\n",
    "#### 2018. 7. 7. Sat.\n",
    "#### Kisoo Kim\n",
    "\n",
    "This example follows the youtube lesson by Sung Kim at HKUST at https://www.youtube.com/watch?v=mQGwjrStQgg&t=0s&list=PLlMkM4tgfjnLSOjrEJN31gZATbcj_MpUm&index=6.\n",
    "\n",
    "In this example, we feed an extremely simplistic training dataset x=[1,2,3], y=[1,2,3] to train a regression model. As predicted, W and b each converges to 1 and 0."
   ]
  },
  {
   "cell_type": "code",
   "execution_count": 30,
   "metadata": {},
   "outputs": [
    {
     "name": "stdout",
     "output_type": "stream",
     "text": [
      "0 th step - Cost :  3.9992492 ,   W :  [-0.4942374] ,    b :  [1.4039394]\n",
      "1000 th step - Cost :  0.00347366 ,   W :  [0.9315474] ,    b :  [0.1556088]\n",
      "2000 th step - Cost :  2.8198932e-05 ,   W :  [0.9938324] ,    b :  [0.01402039]\n",
      "3000 th step - Cost :  2.2902965e-07 ,   W :  [0.9994441] ,    b :  [0.00126365]\n",
      "4000 th step - Cost :  1.898859e-09 ,   W :  [0.9999493] ,    b :  [0.00011492]\n",
      "5000 th step - Cost :  1.9255708e-11 ,   W :  [0.9999948] ,    b :  [1.1455292e-05]\n",
      "6000 th step - Cost :  3.2448118e-12 ,   W :  [0.99999774] ,    b :  [4.493432e-06]\n",
      "7000 th step - Cost :  3.0695446e-12 ,   W :  [0.99999785] ,    b :  [4.3503505e-06]\n",
      "8000 th step - Cost :  3.0695446e-12 ,   W :  [0.99999785] ,    b :  [4.3503505e-06]\n",
      "9000 th step - Cost :  3.0695446e-12 ,   W :  [0.99999785] ,    b :  [4.3503505e-06]\n",
      "10000 th step - Cost :  3.0695446e-12 ,   W :  [0.99999785] ,    b :  [4.3503505e-06]\n",
      "11000 th step - Cost :  3.0695446e-12 ,   W :  [0.99999785] ,    b :  [4.3503505e-06]\n",
      "12000 th step - Cost :  3.0695446e-12 ,   W :  [0.99999785] ,    b :  [4.3503505e-06]\n",
      "13000 th step - Cost :  3.0695446e-12 ,   W :  [0.99999785] ,    b :  [4.3503505e-06]\n",
      "14000 th step - Cost :  3.0695446e-12 ,   W :  [0.99999785] ,    b :  [4.3503505e-06]\n",
      "15000 th step - Cost :  3.0695446e-12 ,   W :  [0.99999785] ,    b :  [4.3503505e-06]\n",
      "16000 th step - Cost :  3.0695446e-12 ,   W :  [0.99999785] ,    b :  [4.3503505e-06]\n",
      "17000 th step - Cost :  3.0695446e-12 ,   W :  [0.99999785] ,    b :  [4.3503505e-06]\n",
      "18000 th step - Cost :  3.0695446e-12 ,   W :  [0.99999785] ,    b :  [4.3503505e-06]\n",
      "19000 th step - Cost :  3.0695446e-12 ,   W :  [0.99999785] ,    b :  [4.3503505e-06]\n",
      "20000 th step - Cost :  3.0695446e-12 ,   W :  [0.99999785] ,    b :  [4.3503505e-06]\n"
     ]
    }
   ],
   "source": [
    "import tensorflow as tf\n",
    "\n",
    "# X and Y data\n",
    "x_train = [1, 2, 3]\n",
    "y_train = [1, 2, 3]\n",
    "\n",
    "# TensorFlow Variables\n",
    "W = tf.Variable(tf.random_normal([1]), name='weight')\n",
    "b = tf.Variable(tf.random_normal([1]), name='bias')\n",
    "\n",
    "# Our Hypothesis XW + b\n",
    "hypothesis = x_train * W + b\n",
    "\n",
    "# Cost Function\n",
    "cost = tf.reduce_mean(tf.square(hypothesis - y_train))\n",
    "\n",
    "# Minimize\n",
    "optimizer = tf.train.GradientDescentOptimizer(learning_rate=0.01)\n",
    "train = optimizer.minimize(cost)\n",
    "\n",
    "# Launch the garph in a session\n",
    "sess = tf.Session()\n",
    "\n",
    "# Initializes global variables in the graph.\n",
    "sess.run(tf.global_variables_initializer())\n",
    "\n",
    "# Fit the line\n",
    "for step in range(20001):\n",
    "    sess.run(train)\n",
    "    if step % 1000 == 0:\n",
    "        print(step, \"th step - Cost : \", sess.run(cost), \",   W : \", sess.run(W), \",    b : \", sess.run(b))"
   ]
  }
 ],
 "metadata": {
  "kernelspec": {
   "display_name": "Python 3",
   "language": "python",
   "name": "python3"
  },
  "language_info": {
   "codemirror_mode": {
    "name": "ipython",
    "version": 3
   },
   "file_extension": ".py",
   "mimetype": "text/x-python",
   "name": "python",
   "nbconvert_exporter": "python",
   "pygments_lexer": "ipython3",
   "version": "3.6.1"
  }
 },
 "nbformat": 4,
 "nbformat_minor": 2
}
